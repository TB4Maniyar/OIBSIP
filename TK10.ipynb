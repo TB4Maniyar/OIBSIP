{
 "cells": [
  {
   "cell_type": "code",
   "execution_count": 4,
   "id": "3b49763f-d792-4330-999b-0139ac78b744",
   "metadata": {},
   "outputs": [],
   "source": [
    "import numpy as np\n",
    "import matplotlib.pyplot as plt\n",
    "import pandas as pd\n",
    "import seaborn as sns"
   ]
  },
  {
   "cell_type": "code",
   "execution_count": 5,
   "id": "c7e14612-a672-4d80-8e3a-2888d69240a9",
   "metadata": {},
   "outputs": [
    {
     "data": {
      "text/html": [
       "<div>\n",
       "<style scoped>\n",
       "    .dataframe tbody tr th:only-of-type {\n",
       "        vertical-align: middle;\n",
       "    }\n",
       "\n",
       "    .dataframe tbody tr th {\n",
       "        vertical-align: top;\n",
       "    }\n",
       "\n",
       "    .dataframe thead th {\n",
       "        text-align: right;\n",
       "    }\n",
       "</style>\n",
       "<table border=\"1\" class=\"dataframe\">\n",
       "  <thead>\n",
       "    <tr style=\"text-align: right;\">\n",
       "      <th></th>\n",
       "      <th>Id</th>\n",
       "      <th>SepalLengthCm</th>\n",
       "      <th>SepalWidthCm</th>\n",
       "      <th>PetalLengthCm</th>\n",
       "      <th>PetalWidthCm</th>\n",
       "      <th>Species</th>\n",
       "    </tr>\n",
       "  </thead>\n",
       "  <tbody>\n",
       "    <tr>\n",
       "      <th>0</th>\n",
       "      <td>1</td>\n",
       "      <td>5.1</td>\n",
       "      <td>3.5</td>\n",
       "      <td>1.4</td>\n",
       "      <td>0.2</td>\n",
       "      <td>Iris-setosa</td>\n",
       "    </tr>\n",
       "    <tr>\n",
       "      <th>1</th>\n",
       "      <td>2</td>\n",
       "      <td>4.9</td>\n",
       "      <td>3.0</td>\n",
       "      <td>1.4</td>\n",
       "      <td>0.2</td>\n",
       "      <td>Iris-setosa</td>\n",
       "    </tr>\n",
       "    <tr>\n",
       "      <th>2</th>\n",
       "      <td>3</td>\n",
       "      <td>4.7</td>\n",
       "      <td>3.2</td>\n",
       "      <td>1.3</td>\n",
       "      <td>0.2</td>\n",
       "      <td>Iris-setosa</td>\n",
       "    </tr>\n",
       "    <tr>\n",
       "      <th>3</th>\n",
       "      <td>4</td>\n",
       "      <td>4.6</td>\n",
       "      <td>3.1</td>\n",
       "      <td>1.5</td>\n",
       "      <td>0.2</td>\n",
       "      <td>Iris-setosa</td>\n",
       "    </tr>\n",
       "    <tr>\n",
       "      <th>4</th>\n",
       "      <td>5</td>\n",
       "      <td>5.0</td>\n",
       "      <td>3.6</td>\n",
       "      <td>1.4</td>\n",
       "      <td>0.2</td>\n",
       "      <td>Iris-setosa</td>\n",
       "    </tr>\n",
       "  </tbody>\n",
       "</table>\n",
       "</div>"
      ],
      "text/plain": [
       "   Id  SepalLengthCm  SepalWidthCm  PetalLengthCm  PetalWidthCm      Species\n",
       "0   1            5.1           3.5            1.4           0.2  Iris-setosa\n",
       "1   2            4.9           3.0            1.4           0.2  Iris-setosa\n",
       "2   3            4.7           3.2            1.3           0.2  Iris-setosa\n",
       "3   4            4.6           3.1            1.5           0.2  Iris-setosa\n",
       "4   5            5.0           3.6            1.4           0.2  Iris-setosa"
      ]
     },
     "execution_count": 5,
     "metadata": {},
     "output_type": "execute_result"
    }
   ],
   "source": [
    "df = pd.read_csv('Iris.csv')\n",
    "df.head()"
   ]
  },
  {
   "cell_type": "code",
   "execution_count": 3,
   "id": "a1e6a46d-4baf-4b65-b0ed-45640bfe785d",
   "metadata": {},
   "outputs": [
    {
     "data": {
      "text/plain": [
       "array(['Iris-setosa', 'Iris-versicolor', 'Iris-virginica'], dtype=object)"
      ]
     },
     "execution_count": 3,
     "metadata": {},
     "output_type": "execute_result"
    }
   ],
   "source": [
    "np.unique(df[\"Species\"])"
   ]
  },
  {
   "cell_type": "code",
   "execution_count": 4,
   "id": "29e86541-0758-4c13-9404-921e640e66b6",
   "metadata": {},
   "outputs": [
    {
     "data": {
      "text/html": [
       "<div>\n",
       "<style scoped>\n",
       "    .dataframe tbody tr th:only-of-type {\n",
       "        vertical-align: middle;\n",
       "    }\n",
       "\n",
       "    .dataframe tbody tr th {\n",
       "        vertical-align: top;\n",
       "    }\n",
       "\n",
       "    .dataframe thead th {\n",
       "        text-align: right;\n",
       "    }\n",
       "</style>\n",
       "<table border=\"1\" class=\"dataframe\">\n",
       "  <thead>\n",
       "    <tr style=\"text-align: right;\">\n",
       "      <th></th>\n",
       "      <th>Id</th>\n",
       "      <th>SepalLengthCm</th>\n",
       "      <th>SepalWidthCm</th>\n",
       "      <th>PetalLengthCm</th>\n",
       "      <th>PetalWidthCm</th>\n",
       "    </tr>\n",
       "  </thead>\n",
       "  <tbody>\n",
       "    <tr>\n",
       "      <th>count</th>\n",
       "      <td>150.000000</td>\n",
       "      <td>150.000000</td>\n",
       "      <td>150.000000</td>\n",
       "      <td>150.000000</td>\n",
       "      <td>150.000000</td>\n",
       "    </tr>\n",
       "    <tr>\n",
       "      <th>mean</th>\n",
       "      <td>75.500000</td>\n",
       "      <td>5.843333</td>\n",
       "      <td>3.054000</td>\n",
       "      <td>3.758667</td>\n",
       "      <td>1.198667</td>\n",
       "    </tr>\n",
       "    <tr>\n",
       "      <th>std</th>\n",
       "      <td>43.445368</td>\n",
       "      <td>0.828066</td>\n",
       "      <td>0.433594</td>\n",
       "      <td>1.764420</td>\n",
       "      <td>0.763161</td>\n",
       "    </tr>\n",
       "    <tr>\n",
       "      <th>min</th>\n",
       "      <td>1.000000</td>\n",
       "      <td>4.300000</td>\n",
       "      <td>2.000000</td>\n",
       "      <td>1.000000</td>\n",
       "      <td>0.100000</td>\n",
       "    </tr>\n",
       "    <tr>\n",
       "      <th>25%</th>\n",
       "      <td>38.250000</td>\n",
       "      <td>5.100000</td>\n",
       "      <td>2.800000</td>\n",
       "      <td>1.600000</td>\n",
       "      <td>0.300000</td>\n",
       "    </tr>\n",
       "    <tr>\n",
       "      <th>50%</th>\n",
       "      <td>75.500000</td>\n",
       "      <td>5.800000</td>\n",
       "      <td>3.000000</td>\n",
       "      <td>4.350000</td>\n",
       "      <td>1.300000</td>\n",
       "    </tr>\n",
       "    <tr>\n",
       "      <th>75%</th>\n",
       "      <td>112.750000</td>\n",
       "      <td>6.400000</td>\n",
       "      <td>3.300000</td>\n",
       "      <td>5.100000</td>\n",
       "      <td>1.800000</td>\n",
       "    </tr>\n",
       "    <tr>\n",
       "      <th>max</th>\n",
       "      <td>150.000000</td>\n",
       "      <td>7.900000</td>\n",
       "      <td>4.400000</td>\n",
       "      <td>6.900000</td>\n",
       "      <td>2.500000</td>\n",
       "    </tr>\n",
       "  </tbody>\n",
       "</table>\n",
       "</div>"
      ],
      "text/plain": [
       "               Id  SepalLengthCm  SepalWidthCm  PetalLengthCm  PetalWidthCm\n",
       "count  150.000000     150.000000    150.000000     150.000000    150.000000\n",
       "mean    75.500000       5.843333      3.054000       3.758667      1.198667\n",
       "std     43.445368       0.828066      0.433594       1.764420      0.763161\n",
       "min      1.000000       4.300000      2.000000       1.000000      0.100000\n",
       "25%     38.250000       5.100000      2.800000       1.600000      0.300000\n",
       "50%     75.500000       5.800000      3.000000       4.350000      1.300000\n",
       "75%    112.750000       6.400000      3.300000       5.100000      1.800000\n",
       "max    150.000000       7.900000      4.400000       6.900000      2.500000"
      ]
     },
     "execution_count": 4,
     "metadata": {},
     "output_type": "execute_result"
    }
   ],
   "source": [
    "df.describe()"
   ]
  },
  {
   "cell_type": "code",
   "execution_count": 5,
   "id": "391ce43c-c9c2-4054-a36a-eb071cd844f3",
   "metadata": {},
   "outputs": [
    {
     "name": "stdout",
     "output_type": "stream",
     "text": [
      "<class 'pandas.core.frame.DataFrame'>\n",
      "RangeIndex: 150 entries, 0 to 149\n",
      "Data columns (total 6 columns):\n",
      " #   Column         Non-Null Count  Dtype  \n",
      "---  ------         --------------  -----  \n",
      " 0   Id             150 non-null    int64  \n",
      " 1   SepalLengthCm  150 non-null    float64\n",
      " 2   SepalWidthCm   150 non-null    float64\n",
      " 3   PetalLengthCm  150 non-null    float64\n",
      " 4   PetalWidthCm   150 non-null    float64\n",
      " 5   Species        150 non-null    object \n",
      "dtypes: float64(4), int64(1), object(1)\n",
      "memory usage: 7.2+ KB\n"
     ]
    }
   ],
   "source": [
    "df.info()"
   ]
  },
  {
   "cell_type": "code",
   "execution_count": null,
   "id": "958b0f52-3390-45d1-812e-2d15a65a1bf1",
   "metadata": {},
   "outputs": [],
   "source": [
    "histogram for each feature in the dataset to illustrate the feature distributions"
   ]
  },
  {
   "cell_type": "code",
   "execution_count": 6,
   "id": "f61d11ff-f4c9-4368-973e-5e9aa0dd560e",
   "metadata": {},
   "outputs": [],
   "source": [
    "import seaborn as sns\n",
    "import matplotlib\n",
    "import matplotlib.pyplot as plt\n",
    "%matplotlib inline"
   ]
  },
  {
   "cell_type": "code",
   "execution_count": 7,
   "id": "3133aebf-4afc-40d2-8af7-261a9f43db6b",
   "metadata": {},
   "outputs": [
    {
     "data": {
      "image/png": "[encoded data removed]",
      "text/plain": [
       "<Figure size 1600x800 with 4 Axes>"
      ]
     },
     "metadata": {},
     "output_type": "display_data"
    }
   ],
   "source": [
    "fig, axes = plt.subplots(2, 2, figsize=(16, 8))\n",
    "axes[0,0].set_title(\"Distribution of SepalLengthCm\")\n",
    "axes[0,0].hist(df[\"SepalLengthCm\"]);\n",
    "\n",
    "axes[0,1].set_title(\"Distribution of SepalWidthCm\")\n",
    "axes[0,1].hist(df[\"SepalWidthCm\"]);\n",
    "\n",
    "axes[1,0].set_title(\"Distribution of PetalLengthCm\")\n",
    "axes[1,0].hist(df[\"PetalLengthCm\"]);\n",
    "\n",
    "axes[1,1].set_title(\"Distribution of PetalWidthCm\")\n",
    "axes[1,1].hist(df[\"PetalWidthCm\"]);"
   ]
  },
  {
   "cell_type": "code",
   "execution_count": null,
   "id": "0731b952-dae0-4fa1-bf7a-36646b52006a",
   "metadata": {},
   "outputs": [],
   "source": [
    "Boxplot for each feature in the datase"
   ]
  },
  {
   "cell_type": "code",
   "execution_count": 14,
   "id": "488ff32c-3e4e-4c2b-bc2e-53d600dd619c",
   "metadata": {},
   "outputs": [
    {
     "data": {
      "image/png": "[encoded data removed]",
      "text/plain": [
       "<Figure size 1200x800 with 1 Axes>"
      ]
     },
     "metadata": {},
     "output_type": "display_data"
    }
   ],
   "source": [
    "data_to_plot = [df[\"SepalLengthCm\"],df[\"SepalWidthCm\"],df[\"PetalLengthCm\"],df[\"PetalWidthCm\"]]\n",
    "\n",
    "sns.set_style(\"whitegrid\")\n",
    "# Creating a figure instance\n",
    "fig = plt.figure(1, figsize=(12,8))\n",
    "\n",
    "# Creating an axes instance\n",
    "ax = fig.add_subplot(111)\n",
    "\n",
    "# Creating the boxplot\n",
    "bp = ax.boxplot(data_to_plot);"
   ]
  },
  {
   "cell_type": "code",
   "execution_count": null,
   "id": "553c8ccb-4f0a-4a4a-9219-22fe9d2f60f1",
   "metadata": {},
   "outputs": [],
   "source": [
    "This code snippet performs an analysis of the Iris dataset using Python with Pandas, Matplotlib, and Seaborn. Let's break it down:\n",
    "\n",
    "1. **Importing Libraries**: The required libraries are imported.\n",
    "\n",
    "```python\n",
    "import numpy as np\n",
    "import matplotlib.pyplot as plt\n",
    "import pandas as pd\n",
    "import seaborn as sns\n",
    "```\n",
    "\n",
    "2. **Loading the Dataset**: The Iris dataset is loaded into a DataFrame named `df` using Pandas' `read_csv()` function. Then, the first few rows of the DataFrame are displayed using the `head()` method.\n",
    "\n",
    "```python\n",
    "df = pd.read_csv('Iris.csv')\n",
    "df.head()\n",
    "```\n",
    "\n",
    "3. **Descriptive Statistics and Information**: Descriptive statistics (such as count, mean, min, max, etc.) for numerical columns are provided using the `describe()` method. Additionally, information about the DataFrame, including column data types and non-null counts, is displayed using the `info()` method.\n",
    "\n",
    "```python\n",
    "np.unique(df[\"Species\"])\n",
    "df.describe()\n",
    "df.info()\n",
    "```\n",
    "\n",
    "4. **Visualizing Feature Distributions**:\n",
    "   - Four subplots are created using `plt.subplots()`, each representing the distribution of a specific feature (`SepalLengthCm`, `SepalWidthCm`, `PetalLengthCm`, `PetalWidthCm`).\n",
    "   - Histograms are created for each feature using the `hist()` function.\n",
    "   - Titles are added to each subplot using `set_title()`.\n",
    "\n",
    "```python\n",
    "fig, axes = plt.subplots(2, 2, figsize=(16, 8))\n",
    "axes[0,0].set_title(\"Distribution of SepalLengthCm\")\n",
    "axes[0,0].hist(df[\"SepalLengthCm\"]);\n",
    "\n",
    "axes[0,1].set_title(\"Distribution of SepalWidthCm\")\n",
    "axes[0,1].hist(df[\"SepalWidthCm\"]);\n",
    "\n",
    "axes[1,0].set_title(\"Distribution of PetalLengthCm\")\n",
    "axes[1,0].hist(df[\"PetalLengthCm\"]);\n",
    "\n",
    "axes[1,1].set_title(\"Distribution of PetalWidthCm\")\n",
    "axes[1,1].hist(df[\"PetalWidthCm\"]);\n",
    "```\n",
    "\n",
    "5. **Creating Boxplots**:\n",
    "   - A list `data_to_plot` is created containing the numerical columns of the DataFrame.\n",
    "   - Seaborn's styling is set using `sns.set_style()`.\n",
    "   - A figure and axes are created using `plt.figure()` and `fig.add_subplot()`.\n",
    "   - A boxplot is created using `ax.boxplot()`.\n",
    "\n",
    "```python\n",
    "data_to_plot = [df[\"SepalLengthCm\"],df[\"SepalWidthCm\"],df[\"PetalLengthCm\"],df[\"PetalWidthCm\"]]\n",
    "\n",
    "sns.set_style(\"whitegrid\")\n",
    "fig = plt.figure(1, figsize=(12,8))\n",
    "ax = fig.add_subplot(111)\n",
    "bp = ax.boxplot(data_to_plot);\n",
    "```\n",
    "\n",
    "Overall, this code provides a comprehensive analysis of the Iris dataset, including descriptive statistics, histograms, and boxplots to visualize feature distributions."
   ]
  },
  {
   "cell_type": "code",
   "execution_count": null,
   "id": "e3570a00-95f5-4138-9ffa-6d042e75afb8",
   "metadata": {},
   "outputs": [],
   "source": [
    "what is histogram in datascience\n",
    "in data science, a histogram is a graphical representation of the distribution of numerical data.\n",
    "It consists of a series of contiguous bars, where the height of each bar represents the frequency\n",
    "or count of data points falling within a specific interval or \"bin\" along the range of values.\n",
    "Histograms are commonly used to visualize the distribution of continuous or discrete numerical variables,\n",
    "allowing data analysts to understand the underlying patterns, trends, and characteristics of the data. "
   ]
  },
  {
   "cell_type": "code",
   "execution_count": null,
   "id": "b79fec0d-4599-42e9-938d-ad54ff0e7ae0",
   "metadata": {},
   "outputs": [],
   "source": [
    "what is boxplot in datascience\n",
    "Box Plot is a graphical method to visualize data distribution for gaining insights and making informed decisions.\n",
    "Box plot is a type of chart that depicts a group of numerical data through their quartiles."
   ]
  },
  {
   "cell_type": "code",
   "execution_count": null,
   "id": "d7c7b2ae-a0db-4fd2-823f-5357e4c4372a",
   "metadata": {},
   "outputs": [],
   "source": [
    "What is Data visualization\n",
    "Data visualization is the graphical representation of data and information. It involves the creation of visual elements such as charts,\n",
    "graphs, maps, and dashboards to communicate insights and patterns derived from data.\n",
    "The primary goal of data visualization is to make complex datasets more understandable, intuitive, and actionable for viewers.\n",
    "By representing data visually, patterns, trends, correlations, and outliers can be easily identified and interpreted,\n",
    "allowing individuals to gain insights and make informed decisions."
   ]
  },
  {
   "cell_type": "code",
   "execution_count": null,
   "id": "583ffa7e-0d3b-41f2-8dc9-4b16b12100b2",
   "metadata": {},
   "outputs": [],
   "source": [
    "To calculate the minimum, maximum, range, and standard deviation of a dataset,\n",
    "1. **Minimum (Min)**: The smallest value in the dataset.\n",
    "2. **Maximum (Max)**: The largest value in the dataset.\n",
    "3. **Range**: The difference between the maximum and minimum values.\n",
    "4. **Standard Deviation**: A measure of the amount of variation or dispersion in a dataset.\n",
    "It quantifies the amount of variation or dispersion of a set of values. A low standard deviation indicates that the values tend to\n",
    "    be close to the mean, while a high standard deviation indicates that the values are spread out over a wider range.\n",
    "# Calculate minimum\n",
    "min_value = np.min(data)\n",
    "# Calculate maximum\n",
    "max_value = np.max(data)\n",
    "# Calculate range\n",
    "data_range = max_value - min_value\n",
    "# Calculate standard deviation\n",
    "std_dev = np.std(data)\n",
    "\n",
    "- `np.min(data)` calculates the minimum value in the dataset `data`.\n",
    "- `np.max(data)` calculates the maximum value in the dataset `data`.\n",
    "- `max_value - min_value` calculates the range of the dataset.\n",
    "- `np.std(data)` calculates the standard deviation of the dataset `data`."
   ]
  },
  {
   "cell_type": "code",
   "execution_count": null,
   "id": "2c74473f-e22d-43a8-8f2b-c6dbdcffcdf3",
   "metadata": {},
   "outputs": [],
   "source": [
    "How to create boxplot for each feature in the dataset?\n",
    "We import the necessary libraries: Seaborn, Pandas, and Matplotlib.\n",
    "We load the dataset into a DataFrame named df. Replace 'data.csv' with the path to your dataset.\n",
    "We create a boxplot for each feature in the dataset using sns.boxplot(data=df).\n",
    "We set the title of the plot using plt.title().\n",
    "We rotate the x-axis labels for better readability using plt.xticks(rotation=45).\n",
    "Finally, we display the plot using plt.show()."
   ]
  },
  {
   "cell_type": "code",
   "execution_count": null,
   "id": "ea0c78cd-37c7-4ae5-97b1-cb0c8d35c72a",
   "metadata": {},
   "outputs": [],
   "source": [
    "How to Create Histogram ?\n",
    "We import the necessary libraries: Pandas and Matplotlib.\n",
    "We load the dataset into a DataFrame named df. Replace 'data.csv' with the path to your dataset.\n",
    "We create a histogram for a specific feature in the dataset using plt.hist(). Replace 'feature_name' with the column name you want to create a histogram for.\n",
    "We specify the number of bins using the bins parameter. Adjust this value according to your dataset and the desired level of granularity.\n",
    "We set the title, xlabel, and ylabel of the plot using plt.title(), plt.xlabel(), and plt.ylabel() respectively.\n",
    "We enable grid lines using plt.grid(True).\n",
    "Finally, we display the plot using plt.show()."
   ]
  },
  {
   "cell_type": "code",
   "execution_count": null,
   "id": "5ecb726a-1d9d-48c3-8199-71825868f280",
   "metadata": {},
   "outputs": [],
   "source": [
    "What is dataset?\n",
    "A dataset is a structured collection of data. It can represent a wide variety of information,\n",
    "including observations, measurements, facts, or descriptions, organized in a tabular or non-tabular format. \n",
    "Datasets serve as the foundation for data analysis, machine learning, statistical modeling, and other data-driven tasks."
   ]
  }
 ],
 "metadata": {
  "kernelspec": {
   "display_name": "Python 3 (ipykernel)",
   "language": "python",
   "name": "python3"
  },
  "language_info": {
   "codemirror_mode": {
    "name": "ipython",
    "version": 3
   },
   "file_extension": ".py",
   "mimetype": "text/x-python",
   "name": "python",
   "nbconvert_exporter": "python",
   "pygments_lexer": "ipython3",
   "version": "3.12.2"
  }
 },
 "nbformat": 4,
 "nbformat_minor": 5
}
